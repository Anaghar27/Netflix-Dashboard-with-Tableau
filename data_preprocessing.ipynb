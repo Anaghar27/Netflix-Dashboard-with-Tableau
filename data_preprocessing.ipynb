{
 "cells": [
  {
   "cell_type": "code",
   "execution_count": 1,
   "id": "d915ccf1-efa1-4613-b984-8ee5128c31d8",
   "metadata": {},
   "outputs": [],
   "source": [
    "import pandas as pd"
   ]
  },
  {
   "cell_type": "code",
   "execution_count": 2,
   "id": "c5217859-6f3d-4cd5-9830-3fb4f1a8d81f",
   "metadata": {},
   "outputs": [],
   "source": [
    "df = pd.read_csv(\"netflix_titles.csv\")"
   ]
  },
  {
   "cell_type": "code",
   "execution_count": 3,
   "id": "1af899f2-1b24-4756-9aee-baa1401a301e",
   "metadata": {},
   "outputs": [
    {
     "name": "stdout",
     "output_type": "stream",
     "text": [
      "Original shape: (8807, 12)\n"
     ]
    }
   ],
   "source": [
    "print(\"Original shape:\", df.shape)"
   ]
  },
  {
   "cell_type": "code",
   "execution_count": 4,
   "id": "c967360f-ad03-4da1-b1f1-dd3d45d5d59c",
   "metadata": {},
   "outputs": [
    {
     "name": "stdout",
     "output_type": "stream",
     "text": [
      "Missing values before cleaning:\n",
      " show_id            0\n",
      "type               0\n",
      "title              0\n",
      "director        2634\n",
      "cast             825\n",
      "country          831\n",
      "date_added        10\n",
      "release_year       0\n",
      "rating             4\n",
      "duration           3\n",
      "listed_in          0\n",
      "description        0\n",
      "dtype: int64\n"
     ]
    }
   ],
   "source": [
    "print(\"Missing values before cleaning:\\n\", df.isnull().sum())"
   ]
  },
  {
   "cell_type": "code",
   "execution_count": 5,
   "id": "86e2a6b9-b9f7-4636-9b69-58f8b1b4ed6e",
   "metadata": {},
   "outputs": [],
   "source": [
    "df = df.dropna(subset=[\"date_added\", \"duration\", \"rating\"])"
   ]
  },
  {
   "cell_type": "code",
   "execution_count": 6,
   "id": "e93a4dd3-bbae-43b8-87e1-ca4ef2fc46b1",
   "metadata": {},
   "outputs": [],
   "source": [
    "df['director'] = df['director'].fillna(\"Unknown\")\n",
    "df['cast'] = df['cast'].fillna(\"Unknown\")\n",
    "df['country'] = df['country'].fillna(\"Unknown\")"
   ]
  },
  {
   "cell_type": "code",
   "execution_count": 7,
   "id": "a444b5e8-f211-4393-8612-b877352ab929",
   "metadata": {},
   "outputs": [],
   "source": [
    "df[['duration_value', 'duration_type']] = df['duration'].str.extract(r'(\\d+)\\s*(\\w+)', expand=True)\n",
    "df['duration_value'] = pd.to_numeric(df['duration_value'], errors='coerce')"
   ]
  },
  {
   "cell_type": "code",
   "execution_count": 8,
   "id": "fedb1786-576c-4d20-a2e9-65aba5c82c20",
   "metadata": {},
   "outputs": [],
   "source": [
    "df['date_added'] = pd.to_datetime(df['date_added'], errors='coerce')\n",
    "df = df.dropna(subset=['date_added'])\n",
    "\n",
    "df['year_added'] = df['date_added'].dt.year\n",
    "df['month_added'] = df['date_added'].dt.month_name()\n",
    "\n",
    "df['date_added'] = df['date_added'].dt.date"
   ]
  },
  {
   "cell_type": "code",
   "execution_count": 9,
   "id": "325a78e1-1529-4804-b819-e07e12761eb0",
   "metadata": {},
   "outputs": [],
   "source": [
    "df['main_genre'] = df['listed_in'].str.split(',').str[0].str.strip()"
   ]
  },
  {
   "cell_type": "code",
   "execution_count": 10,
   "id": "f3fa0f6a-7d83-4e68-bfa9-41fead705961",
   "metadata": {},
   "outputs": [],
   "source": [
    "df_directors = df[df['director'] != \"Unknown\"].copy()\n",
    "df_directors['director'] = df_directors['director'].str.split(',')\n",
    "df_directors = df_directors.explode('director')\n",
    "df_directors['director'] = df_directors['director'].str.strip()\n",
    "df_directors = df_directors[['show_id', 'director']]"
   ]
  },
  {
   "cell_type": "code",
   "execution_count": 11,
   "id": "ec22de18-c423-41a1-8fbb-d199c484ad26",
   "metadata": {},
   "outputs": [],
   "source": [
    "df_actors = df[df['cast'] != \"Unknown\"].copy()\n",
    "df_actors['cast'] = df_actors['cast'].str.split(',')\n",
    "df_actors = df_actors.explode('cast')\n",
    "df_actors['actor'] = df_actors['cast'].str.strip()\n",
    "df_actors = df_actors[['show_id', 'actor']]"
   ]
  },
  {
   "cell_type": "code",
   "execution_count": 12,
   "id": "00923490-2cdc-48dd-bbf3-db5ff69ba79d",
   "metadata": {},
   "outputs": [
    {
     "name": "stdout",
     "output_type": "stream",
     "text": [
      "netflix_data.xlsx' created with sheets: movies, directors, actors\n"
     ]
    }
   ],
   "source": [
    "with pd.ExcelWriter(\"netflix_data.xlsx\", engine=\"xlsxwriter\") as writer:\n",
    "    df.to_excel(writer, sheet_name=\"movies\", index=False)\n",
    "    df_directors.to_excel(writer, sheet_name=\"directors\", index=False)\n",
    "    df_actors.to_excel(writer, sheet_name=\"actors\", index=False)\n",
    "\n",
    "print(\"netflix_data.xlsx' created with sheets: movies, directors, actors\")"
   ]
  },
  {
   "cell_type": "code",
   "execution_count": null,
   "id": "1eff959d-6c4e-484f-b24f-c214614bcc6f",
   "metadata": {},
   "outputs": [],
   "source": []
  }
 ],
 "metadata": {
  "kernelspec": {
   "display_name": "Python 3 (ipykernel)",
   "language": "python",
   "name": "python3"
  },
  "language_info": {
   "codemirror_mode": {
    "name": "ipython",
    "version": 3
   },
   "file_extension": ".py",
   "mimetype": "text/x-python",
   "name": "python",
   "nbconvert_exporter": "python",
   "pygments_lexer": "ipython3",
   "version": "3.12.2"
  }
 },
 "nbformat": 4,
 "nbformat_minor": 5
}
